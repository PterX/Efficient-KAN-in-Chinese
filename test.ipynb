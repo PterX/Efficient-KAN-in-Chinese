{
 "cells": [
  {
   "cell_type": "code",
   "execution_count": 1,
   "metadata": {},
   "outputs": [],
   "source": [
    "%reload_ext autoreload\n",
    "%autoreload 2"
   ]
  },
  {
   "cell_type": "code",
   "execution_count": 3,
   "metadata": {},
   "outputs": [
    {
     "name": "stdout",
     "output_type": "stream",
     "text": [
      "layers.0.base_weight: requires_grad=True\n",
      "layers.0.cheby_coeffs: requires_grad=True\n",
      "layers.0.bias: requires_grad=True\n",
      "layers.1.base_weight: requires_grad=True\n",
      "layers.1.cheby_coeffs: requires_grad=True\n",
      "layers.1.bias: requires_grad=True\n",
      "layers.2.base_weight: requires_grad=True\n",
      "layers.2.cheby_coeffs: requires_grad=True\n",
      "layers.2.bias: requires_grad=True\n",
      "layers.3.base_weight: requires_grad=True\n",
      "layers.3.cheby_coeffs: requires_grad=True\n",
      "layers.3.bias: requires_grad=True\n",
      "layers.4.base_weight: requires_grad=True\n",
      "layers.4.cheby_coeffs: requires_grad=True\n",
      "layers.4.bias: requires_grad=True\n",
      "\n",
      "设置为可训练后:\n",
      "layers.0.base_weight: requires_grad=True\n",
      "layers.0.cheby_coeffs: requires_grad=True\n",
      "layers.0.bias: requires_grad=True\n",
      "layers.1.base_weight: requires_grad=True\n",
      "layers.1.cheby_coeffs: requires_grad=True\n",
      "layers.1.bias: requires_grad=True\n",
      "layers.2.base_weight: requires_grad=True\n",
      "layers.2.cheby_coeffs: requires_grad=True\n",
      "layers.2.bias: requires_grad=True\n",
      "layers.3.base_weight: requires_grad=True\n",
      "layers.3.cheby_coeffs: requires_grad=True\n",
      "layers.3.bias: requires_grad=True\n",
      "layers.4.base_weight: requires_grad=True\n",
      "layers.4.cheby_coeffs: requires_grad=True\n",
      "layers.4.bias: requires_grad=True\n"
     ]
    },
    {
     "data": {
      "text/plain": [
       "==========================================================================================\n",
       "Layer (type:depth-idx)                   Output Shape              Param #\n",
       "==========================================================================================\n",
       "ChebyKAN                                 [32]                      --\n",
       "├─ModuleList: 1-1                        --                        --\n",
       "│    └─ChebyKANLinear: 2-1               [128]                     57,472\n",
       "│    │    └─SiLU: 3-1                    [1, 64]                   --\n",
       "│    └─ChebyKANLinear: 2-2               [256]                     229,632\n",
       "│    │    └─SiLU: 3-2                    [1, 128]                  --\n",
       "│    └─ChebyKANLinear: 2-3               [128]                     229,504\n",
       "│    │    └─SiLU: 3-3                    [1, 256]                  --\n",
       "│    └─ChebyKANLinear: 2-4               [64]                      57,408\n",
       "│    │    └─SiLU: 3-4                    [1, 128]                  --\n",
       "│    └─ChebyKANLinear: 2-5               [32]                      14,368\n",
       "│    │    └─SiLU: 3-5                    [1, 64]                   --\n",
       "==========================================================================================\n",
       "Total params: 588,384\n",
       "Trainable params: 588,384\n",
       "Non-trainable params: 0\n",
       "Total mult-adds (M): 0\n",
       "==========================================================================================\n",
       "Input size (MB): 0.00\n",
       "Forward/backward pass size (MB): 0.00\n",
       "Params size (MB): 0.00\n",
       "Estimated Total Size (MB): 0.00\n",
       "=========================================================================================="
      ]
     },
     "execution_count": 3,
     "metadata": {},
     "output_type": "execute_result"
    }
   ],
   "source": [
    "from ikan.ChebyKAN import ChebyKAN\n",
    "import torch\n",
    "from torchinfo import summary\n",
    "\n",
    "# 定义模型的隐藏层结构，每层的输入和输出维度\n",
    "layers_hidden = [64, 128, 256, 128, 64, 32]\n",
    "\n",
    "# 创建模型\n",
    "model = ChebyKAN(\n",
    "    layers_hidden=layers_hidden,\n",
    "    degree=5,\n",
    "    scale_base=1.0,\n",
    "    scale_cheby=1.0,\n",
    "    base_activation=torch.nn.SiLU,\n",
    "    use_bias=True,\n",
    ")\n",
    "\n",
    "# 检查并打印每个参数的requires_grad状态\n",
    "for name, param in model.named_parameters():\n",
    "    print(f\"{name}: requires_grad={param.requires_grad}\")\n",
    "\n",
    "# 如果需要将所有参数设置为可训练\n",
    "for param in model.parameters():\n",
    "    param.requires_grad = True\n",
    "\n",
    "# 再次检查参数状态\n",
    "print(\"\\n设置为可训练后:\")\n",
    "for name, param in model.named_parameters():\n",
    "    print(f\"{name}: requires_grad={param.requires_grad}\")\n",
    "\n",
    "# 再次使用summary查看\n",
    "summary(model, input_size=(64,))"
   ]
  },
  {
   "cell_type": "code",
   "execution_count": null,
   "metadata": {},
   "outputs": [],
   "source": []
  }
 ],
 "metadata": {
  "kernelspec": {
   "display_name": "base",
   "language": "python",
   "name": "python3"
  },
  "language_info": {
   "codemirror_mode": {
    "name": "ipython",
    "version": 3
   },
   "file_extension": ".py",
   "mimetype": "text/x-python",
   "name": "python",
   "nbconvert_exporter": "python",
   "pygments_lexer": "ipython3",
   "version": "3.10.6"
  }
 },
 "nbformat": 4,
 "nbformat_minor": 2
}
