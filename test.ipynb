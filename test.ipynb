{
 "cells": [
  {
   "cell_type": "code",
   "execution_count": 1,
   "metadata": {},
   "outputs": [],
   "source": [
    "%reload_ext autoreload\n",
    "%autoreload 2"
   ]
  },
  {
   "cell_type": "code",
   "execution_count": 3,
   "metadata": {},
   "outputs": [
    {
     "name": "stdout",
     "output_type": "stream",
     "text": [
      "警告: 特征数 1 不是组数 8 的倍数，可能导致运行错误\n",
      "layers.0.act.weight_numerator: cuda:0\n",
      "layers.0.act.weight_denominator: cuda:0\n",
      "layers.0.linear.weight: cuda:0\n",
      "layers.0.linear.bias: cuda:0\n",
      "layers.1.act.weight_numerator: cuda:0\n",
      "layers.1.act.weight_denominator: cuda:0\n",
      "layers.1.linear.weight: cuda:0\n",
      "layers.1.linear.bias: cuda:0\n"
     ]
    }
   ],
   "source": [
    "from ikan.GroupKAN import GroupKAN\n",
    "\n",
    "model = GroupKAN(layers_hidden=[8, 32, 1]).cuda()\n",
    "\n",
    "for name, param in model.named_parameters():\n",
    "    print(f\"{name}: {param.device}\")"
   ]
  }
 ],
 "metadata": {
  "kernelspec": {
   "display_name": "base",
   "language": "python",
   "name": "python3"
  },
  "language_info": {
   "codemirror_mode": {
    "name": "ipython",
    "version": 3
   },
   "file_extension": ".py",
   "mimetype": "text/x-python",
   "name": "python",
   "nbconvert_exporter": "python",
   "pygments_lexer": "ipython3",
   "version": "3.10.14"
  }
 },
 "nbformat": 4,
 "nbformat_minor": 2
}
