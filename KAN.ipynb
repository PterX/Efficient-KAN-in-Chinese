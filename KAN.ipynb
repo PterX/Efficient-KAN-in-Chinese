{
 "cells": [
  {
   "cell_type": "code",
   "execution_count": 1,
   "metadata": {},
   "outputs": [],
   "source": [
    "%load_ext autoreload\n",
    "%autoreload 2"
   ]
  },
  {
   "cell_type": "code",
   "execution_count": 2,
   "metadata": {},
   "outputs": [],
   "source": [
    "from ikan import KANLinear, KAN #你可以这样召唤出你需要的KAN"
   ]
  },
  {
   "cell_type": "code",
   "execution_count": 3,
   "metadata": {},
   "outputs": [
    {
     "data": {
      "text/plain": [
       "==========================================================================================\n",
       "Layer (type:depth-idx)                   Output Shape              Param #\n",
       "==========================================================================================\n",
       "KAN                                      [1]                       --\n",
       "├─ModuleList: 1-1                        --                        --\n",
       "│    └─KANLinear: 2-1                    [64]                      1,920\n",
       "│    │    └─SiLU: 3-1                    [1, 3]                    --\n",
       "│    └─KANLinear: 2-2                    [128]                     81,920\n",
       "│    │    └─SiLU: 3-2                    [1, 64]                   --\n",
       "│    └─KANLinear: 2-3                    [1]                       1,280\n",
       "│    │    └─SiLU: 3-3                    [1, 128]                  --\n",
       "==========================================================================================\n",
       "Total params: 85,120\n",
       "Trainable params: 85,120\n",
       "Non-trainable params: 0\n",
       "Total mult-adds (M): 0\n",
       "==========================================================================================\n",
       "Input size (MB): 0.00\n",
       "Forward/backward pass size (MB): 0.00\n",
       "Params size (MB): 0.00\n",
       "Estimated Total Size (MB): 0.00\n",
       "=========================================================================================="
      ]
     },
     "execution_count": 3,
     "metadata": {},
     "output_type": "execute_result"
    }
   ],
   "source": [
    "import torch\n",
    "from torchinfo import summary\n",
    "\n",
    "\n",
    "# 定义一个 KAN 模型实例\n",
    "kan_model = KAN(\n",
    "    layers_hidden=[3, 64, 128, 1],  # 输入维度为 3，隐藏层维度为 64 和 128，输出维度为 1\n",
    "    grid_size=5,\n",
    "    spline_order=3,\n",
    "    scale_noise=0.1,\n",
    "    scale_base=1.0,\n",
    "    scale_spline=1.0,\n",
    "    base_activation=torch.nn.SiLU,\n",
    "    grid_eps=0.02,\n",
    "    grid_range=[-1, 1],\n",
    ")\n",
    "\n",
    "# 打印模型摘要\n",
    "summary(kan_model, input_size=(3,))\n"
   ]
  },
  {
   "cell_type": "markdown",
   "metadata": {},
   "source": [
    "从输出结果来看，模型结构和参数设置显示了一些细节，显示了每一层的输出形状和参数数量。以下是各层和设置之间的具体联系和解释：\n",
    "\n",
    "### 模型设置和摘要的联系\n",
    "\n",
    "#### 设置\n",
    "```python\n",
    "kan_model = KAN(\n",
    "    layers_hidden=[3, 64, 128, 1],  # 输入维度为 3，隐藏层维度为 64 和 128，输出维度为 1\n",
    "    grid_size=5,\n",
    "    spline_order=3,\n",
    "    scale_noise=0.1,\n",
    "    scale_base=1.0,\n",
    "    scale_spline=1.0,\n",
    "    base_activation=torch.nn.SiLU,\n",
    "    grid_eps=0.02,\n",
    "    grid_range=[-1, 1],\n",
    ")\n",
    "```\n",
    "\n",
    "#### 模型摘要\n",
    "```\n",
    "==========================================================================================\n",
    "Layer (type:depth-idx)                   Output Shape              Param #\n",
    "==========================================================================================\n",
    "KAN                                      [1]                       --\n",
    "├─ModuleList: 1-1                        --                        --\n",
    "│    └─KANLinear: 2-1                    [64]                      1,920\n",
    "│    │    └─SiLU: 3-1                    [1, 3]                    --\n",
    "│    └─KANLinear: 2-2                    [128]                     81,920\n",
    "│    │    └─SiLU: 3-2                    [1, 64]                   --\n",
    "│    └─KANLinear: 2-3                    [1]                       1,280\n",
    "│    │    └─SiLU: 3-3                    [1, 128]                  --\n",
    "==========================================================================================\n",
    "Total params: 85,120\n",
    "Trainable params: 85,120\n",
    "Non-trainable params: 0\n",
    "Total mult-adds (M): 0\n",
    "==========================================================================================\n",
    "Input size (MB): 0.00\n",
    "Forward/backward pass size (MB): 0.00\n",
    "Params size (MB): 0.00\n",
    "Estimated Total Size (MB): 0.00\n",
    "==========================================================================================\n",
    "```\n",
    "\n",
    "### 解释\n",
    "\n",
    "#### KAN 模型实例\n",
    "\n",
    "- `layers_hidden=[3, 64, 128, 1]`：\n",
    "  - 模型的输入特征数为 3。\n",
    "  - 第一层的输出特征数为 64。\n",
    "  - 第二层的输出特征数为 128。\n",
    "  - 最后一层的输出特征数为 1。\n",
    "\n",
    "#### 各层的参数数量\n",
    "\n",
    "1. **第一层 KANLinear**\n",
    "   - 输入特征数为 3，输出特征数为 64。\n",
    "   - 参数数量计算：\n",
    "     - 基础权重：`3 * 64 = 192`。\n",
    "     - 样条权重：`(3 * (5 + 3)) * 64 = 3 * 8 * 64 = 1536`。\n",
    "     - 总参数数量：`192 + 1536 = 1728`（可能略有差异，因为模型中可能还有其他小的参数或偏置项）。\n",
    "\n",
    "2. **第二层 KANLinear**\n",
    "   - 输入特征数为 64，输出特征数为 128。\n",
    "   - 参数数量计算：\n",
    "     - 基础权重：`64 * 128 = 8192`。\n",
    "     - 样条权重：`(64 * (5 + 3)) * 128 = 64 * 8 * 128 = 65536`。\n",
    "     - 总参数数量：`8192 + 65536 = 73728`。\n",
    "\n",
    "3. **第三层 KANLinear**\n",
    "   - 输入特征数为 128，输出特征数为 1。\n",
    "   - 参数数量计算：\n",
    "     - 基础权重：`128 * 1 = 128`。\n",
    "     - 样条权重：`(128 * (5 + 3)) * 1 = 128 * 8 * 1 = 1024`。\n",
    "     - 总参数数量：`128 + 1024 = 1152`。\n",
    "\n",
    "这些参数数量的计算结果与模型摘要中的参数数量一致。\n",
    "\n",
    "#### 总参数数量\n",
    "- 模型的总参数数量为 85,120。\n",
    "\n",
    "#### 各层的输出形状\n",
    "- 输入特征数为 3。\n",
    "- 第一层的输出形状为 `[64]`。\n",
    "- 第二层的输出形状为 `[128]`。\n",
    "- 第三层的输出形状为 `[1]`。\n"
   ]
  },
  {
   "cell_type": "code",
   "execution_count": 4,
   "metadata": {},
   "outputs": [
    {
     "name": "stdout",
     "output_type": "stream",
     "text": [
      "Total trainable parameters: 85120\n",
      "layers.0.base_weight: 192 parameters\n",
      "layers.0.spline_weight: 1536 parameters\n",
      "layers.0.spline_scaler: 192 parameters\n",
      "layers.1.base_weight: 8192 parameters\n",
      "layers.1.spline_weight: 65536 parameters\n",
      "layers.1.spline_scaler: 8192 parameters\n",
      "layers.2.base_weight: 128 parameters\n",
      "layers.2.spline_weight: 1024 parameters\n",
      "layers.2.spline_scaler: 128 parameters\n",
      "layers.0: KANLinear(\n",
      "  (base_activation): SiLU()\n",
      ")\n",
      "layers.1: KANLinear(\n",
      "  (base_activation): SiLU()\n",
      ")\n",
      "layers.2: KANLinear(\n",
      "  (base_activation): SiLU()\n",
      ")\n",
      "Output: tensor([[-0.0071]], grad_fn=<ViewBackward0>)\n"
     ]
    }
   ],
   "source": [
    "def count_parameters(model):\n",
    "    return sum(p.numel() for p in model.parameters() if p.requires_grad)\n",
    "\n",
    "# 计算并打印模型参数数量\n",
    "total_params = count_parameters(kan_model)\n",
    "print(f\"Total trainable parameters: {total_params}\")\n",
    "\n",
    "# 打印每一层的参数数量\n",
    "for name, param in kan_model.named_parameters():\n",
    "    if param.requires_grad:\n",
    "        print(f\"{name}: {param.numel()} parameters\")\n",
    "\n",
    "# 打印每一层的形状\n",
    "for name, module in kan_model.named_modules():\n",
    "    if isinstance(module, KANLinear):\n",
    "        print(f\"{name}: {module}\")\n",
    "\n",
    "# 示例输入\n",
    "x = torch.randn(1, 3)\n",
    "# 前向传播\n",
    "output = kan_model(x)\n",
    "print(f\"Output: {output}\")"
   ]
  },
  {
   "cell_type": "markdown",
   "metadata": {},
   "source": [
    "# 测试"
   ]
  },
  {
   "cell_type": "code",
   "execution_count": 6,
   "metadata": {},
   "outputs": [
    {
     "name": "stdout",
     "output_type": "stream",
     "text": [
      "tensor([[0.0008]], grad_fn=<ViewBackward0>)\n",
      "torch.Size([1, 1])\n"
     ]
    }
   ],
   "source": [
    "import torch\n",
    "dummy_input = torch.randn(1, 3)\n",
    "dummy_output = kan_model(dummy_input)\n",
    "print(dummy_output)\n",
    "print(dummy_output.shape)\n"
   ]
  },
  {
   "cell_type": "code",
   "execution_count": null,
   "metadata": {},
   "outputs": [],
   "source": []
  }
 ],
 "metadata": {
  "kernelspec": {
   "display_name": "cloudspace",
   "language": "python",
   "name": "python3"
  },
  "language_info": {
   "codemirror_mode": {
    "name": "ipython",
    "version": 3
   },
   "file_extension": ".py",
   "mimetype": "text/x-python",
   "name": "python",
   "nbconvert_exporter": "python",
   "pygments_lexer": "ipython3",
   "version": "3.10.10"
  }
 },
 "nbformat": 4,
 "nbformat_minor": 2
}
